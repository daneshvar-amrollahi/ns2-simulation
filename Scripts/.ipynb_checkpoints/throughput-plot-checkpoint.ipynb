{
 "cells": [
  {
   "cell_type": "code",
   "execution_count": 4,
   "id": "ff448c96",
   "metadata": {},
   "outputs": [],
   "source": [
    "import sys\n",
    "import matplotlib.pyplot as plt"
   ]
  },
  {
   "cell_type": "code",
   "execution_count": 8,
   "id": "6bfbb57f",
   "metadata": {},
   "outputs": [
    {
     "name": "stdout",
     "output_type": "stream",
     "text": [
      "Total Data Received by Node _7_ = 19053008\n",
      "Total Time = 100\n",
      "Throughput = 190530.08 bits/sec\n"
     ]
    }
   ],
   "source": [
    "%%python throughput.py 1p5mbps/wireless.tr 7\n",
    "\n",
    "print(sys.argv)\n",
    "\n",
    "exit(0)\n",
    "\n",
    "file = open(sys.argv[1], 'r')\n",
    "lines = file.readlines()\n",
    "\n",
    "total_time = int(float(lines[-1].split()[1]))\n",
    "receiver_node = \"_\" + sys.argv[2] + \"_\"\n",
    "\n",
    "y = [0] * 101\n",
    "\n",
    "data = 0\n",
    "for line in lines:\n",
    "    words = line.split()    \n",
    "    if words[0] == \"r\" and words[2] == receiver_node:\n",
    "        cur_time = int(words[1])\n",
    "        packet_size = int(words[7])\n",
    "        y[cur_time] += packet_size\n",
    "        \n",
    "x = [i for i in range(1, 102)]\n",
    "\n",
    "# plot\n",
    "fig, ax = plt.subplots()\n",
    "\n",
    "ax.plot(x, y, linewidth=2.0)\n",
    "\n",
    "plt.show()\n",
    "# How 2 run: python throughput.py 1p5mbps/wireless.tr 7"
   ]
  }
 ],
 "metadata": {
  "kernelspec": {
   "display_name": "Python 3.8.3 64-bit ('base': conda)",
   "language": "python",
   "name": "python38364bitbasecondabbb9afc6973a4765bc4615e1a113f959"
  },
  "language_info": {
   "codemirror_mode": {
    "name": "ipython",
    "version": 3
   },
   "file_extension": ".py",
   "mimetype": "text/x-python",
   "name": "python",
   "nbconvert_exporter": "python",
   "pygments_lexer": "ipython3",
   "version": "3.9.7"
  }
 },
 "nbformat": 4,
 "nbformat_minor": 5
}
